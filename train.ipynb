{
 "cells": [
  {
   "cell_type": "code",
   "execution_count": 11,
   "metadata": {},
   "outputs": [
    {
     "name": "stdout",
     "output_type": "stream",
     "text": [
      "Requirement already satisfied: opencv-python in /Users/aliemre2023/.pyenv/versions/3.10.6/lib/python3.10/site-packages (4.6.0.66)\n",
      "Requirement already satisfied: numpy>=1.21.2 in /Users/aliemre2023/.pyenv/versions/3.10.6/lib/python3.10/site-packages (from opencv-python) (1.24.0)\n",
      "Requirement already satisfied: numpy in /Users/aliemre2023/.pyenv/versions/3.10.6/lib/python3.10/site-packages (1.24.0)\n"
     ]
    }
   ],
   "source": [
    "!pip install opencv-python\n",
    "!pip install numpy"
   ]
  },
  {
   "cell_type": "code",
   "execution_count": 12,
   "metadata": {},
   "outputs": [],
   "source": [
    "import os\n",
    "import cv2 as cv\n",
    "import numpy as np"
   ]
  },
  {
   "cell_type": "code",
   "execution_count": 13,
   "metadata": {},
   "outputs": [],
   "source": [
    "# List of recognized individuals\n",
    "people = [\"Ali Emre Kaya\"]"
   ]
  },
  {
   "cell_type": "code",
   "execution_count": 14,
   "metadata": {},
   "outputs": [],
   "source": [
    "# Path of the directory containing the datasets\n",
    "DIR = r'dataset'"
   ]
  },
  {
   "cell_type": "code",
   "execution_count": 15,
   "metadata": {},
   "outputs": [],
   "source": [
    "# Load OpenCV's pre-trained Haar cascade for face detection\n",
    "haar_cascade = cv.CascadeClassifier(cv.data.haarcascades + 'haarcascade_frontalface_default.xml')"
   ]
  },
  {
   "cell_type": "code",
   "execution_count": 16,
   "metadata": {},
   "outputs": [
    {
     "name": "stdout",
     "output_type": "stream",
     "text": [
      "Error loading image: dataset/Ali Emre Kaya/.DS_Store\n",
      "|---------- Training Done ----------|\n"
     ]
    }
   ],
   "source": [
    "features = []\n",
    "labels = []\n",
    "\n",
    "# Function to create and train the face recognizer\n",
    "def create_train():\n",
    "    for person in people:\n",
    "        path = os.path.join(DIR, person)\n",
    "        label = people.index(person)\n",
    "\n",
    "        for img in os.listdir(path):\n",
    "            img_path = os.path.join(path, img)\n",
    "\n",
    "            # Load the image and convert to grayscale\n",
    "            img_array = cv.imread(img_path)\n",
    "            if img_array is None:\n",
    "                print(\"Error loading image:\", img_path)\n",
    "                continue\n",
    "            gray = cv.cvtColor(img_array, cv.COLOR_BGR2GRAY)\n",
    "\n",
    "            # Detect faces in the image and extract regions of interest (ROIs)\n",
    "            faces_rect = haar_cascade.detectMultiScale(gray, scaleFactor=1.1, minNeighbors=4)\n",
    "\n",
    "            # Selecting the biggest face\n",
    "            # (assuming that will be the inividual)\n",
    "            if(len(faces_rect)  != 0):\n",
    "                biggest_rect = -1\n",
    "                xB = 0\n",
    "                yB = 0\n",
    "                wB = 0\n",
    "                hB = 0\n",
    "                for(x, y, w, h) in faces_rect:\n",
    "                    new_rect = abs(w)\n",
    "                    if(biggest_rect < new_rect):\n",
    "                        biggest_rect = new_rect\n",
    "                        xB = x\n",
    "                        yB = y\n",
    "                        wB = w\n",
    "                        hB = h\n",
    "\n",
    "            # Indexes of biggest face\n",
    "            faces_rect = [[xB, yB, wB, hB]]\n",
    "\n",
    "            for (x, y, w, h) in faces_rect:\n",
    "                faces_roi = gray[y:y+h, x:x+w]\n",
    "                features.append(faces_roi)\n",
    "                labels.append(label)\n",
    "\n",
    "# Call the function to create and train the face recognizer\n",
    "create_train()\n",
    "print(\"|---------- Training Done ----------|\")"
   ]
  },
  {
   "cell_type": "code",
   "execution_count": 17,
   "metadata": {},
   "outputs": [],
   "source": [
    "# Convert the features and labels to numpy arrays\n",
    "features = np.array(features, dtype=\"object\")\n",
    "labels = np.array(labels)"
   ]
  },
  {
   "cell_type": "code",
   "execution_count": 18,
   "metadata": {},
   "outputs": [],
   "source": [
    "# Create a LBPH face recognizer\n",
    "face_recognizer = cv.face.LBPHFaceRecognizer_create()\n"
   ]
  },
  {
   "cell_type": "code",
   "execution_count": 19,
   "metadata": {},
   "outputs": [],
   "source": [
    "# Train the face recognizer using the features and labels\n",
    "face_recognizer.train(features, labels)\n"
   ]
  },
  {
   "cell_type": "code",
   "execution_count": 20,
   "metadata": {},
   "outputs": [],
   "source": [
    "# Save the trained face recognizer and the data\n",
    "face_recognizer.save(\"face_trained.yml\")\n",
    "np.save(\"features.npy\", features)\n",
    "np.save(\"labels.npy\", labels)"
   ]
  }
 ],
 "metadata": {
  "kernelspec": {
   "display_name": "tfodj",
   "language": "python",
   "name": "tfodj"
  },
  "language_info": {
   "codemirror_mode": {
    "name": "ipython",
    "version": 3
   },
   "file_extension": ".py",
   "mimetype": "text/x-python",
   "name": "python",
   "nbconvert_exporter": "python",
   "pygments_lexer": "ipython3",
   "version": "3.10.6"
  },
  "orig_nbformat": 4
 },
 "nbformat": 4,
 "nbformat_minor": 2
}
